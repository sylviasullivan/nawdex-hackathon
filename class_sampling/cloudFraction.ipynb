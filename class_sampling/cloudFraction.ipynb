{
 "cells": [
  {
   "cell_type": "code",
   "execution_count": 1,
   "metadata": {},
   "outputs": [],
   "source": [
    "import xarray as xr\n",
    "import matplotlib.pyplot as plt"
   ]
  },
  {
   "cell_type": "code",
   "execution_count": 2,
   "metadata": {},
   "outputs": [],
   "source": [
    "# Extract the lat / lon for the associated grid.\n",
    "basedir = '/scratch/b/b380459/icon_4_hackathon/nawdexnwp-80km-mis-0001/'\n",
    "datei = xr.open_dataset(basedir + 'nawdexnwp-80km-mis-0001_2016092200_3dcloud_DOM01_ML_0024.nc')\n",
    "clc = datei['clc']\n",
    "heights = clc['height']\n",
    "clc_m = clc.mean(dim={'time','ncells'})\n",
    "clc_std = clc.std(dim={'time','ncells'})\n",
    "clc_q1 = clc.quantile(0.33,dim={'time','ncells'})\n",
    "clc_q3 = clc.quantile(0.66,dim={'time','ncells'})\n",
    "clc_max = clc.max(dim={'time','ncells'})\n",
    "clc_min = clc.min(dim={'time','ncells'})\n",
    "#print(clc_min,clc_q1,clc_m,clc_q3,clc_max)"
   ]
  },
  {
   "cell_type": "code",
   "execution_count": 3,
   "metadata": {},
   "outputs": [
    {
     "data": {
      "text/plain": [
       "(0.0, 50.0)"
      ]
     },
     "execution_count": 3,
     "metadata": {},
     "output_type": "execute_result"
    },
    {
     "data": {
      "image/png": "[encoded data removed]",
      "text/plain": [
       "<Figure size 432x288 with 1 Axes>"
      ]
     },
     "metadata": {
      "needs_background": "light"
     },
     "output_type": "display_data"
    }
   ],
   "source": [
    "fs = 13\n",
    "fig = plt.figure()\n",
    "plt.errorbar(clc_m, heights, xerr=clc_std, fmt='ok', lw=1)\n",
    "plt.gca().invert_yaxis()\n",
    "plt.ylabel('Model level',fontsize=fs)\n",
    "plt.xlabel('Cloud cover [%]',fontsize=fs)\n",
    "plt.xlim([0,50])\n",
    "#plt.errorbar(clc_m, heights, [clc_m-clc_min, clc_max-clc_m], fmt='.k', ecolor='gray', lw=1)"
   ]
  },
  {
   "cell_type": "markdown",
   "metadata": {},
   "source": [
    "## Setup a distributed computing cluster (taken from Martin Bergemann)\n",
    "The following can read data on the order of terabytes. We set up a distributed cluster using the dask_jobqueue library (see https://jobqueue.dask.org/en/latest/) and ultimately the *Slurm* workload manager. To generate a slurm cluster, we specify account, user, partition, etc. like we would for a bash script to submit batch jobs."
   ]
  },
  {
   "cell_type": "code",
   "execution_count": 6,
   "metadata": {},
   "outputs": [],
   "source": [
    "from getpass import getuser\n",
    "from pathlib import Path\n",
    "import os\n",
    "from tempfile import TemporaryDirectory\n",
    "from subprocess import run, PIPE\n",
    "import sys\n",
    "\n",
    "import dask # Distributed data library\n",
    "from dask_jobqueue import SLURMCluster # Set up distributed memory\n",
    "from distributed import Client, progress, wait # Library to orchestrate distributed resources"
   ]
  },
  {
   "cell_type": "code",
   "execution_count": 7,
   "metadata": {},
   "outputs": [],
   "source": [
    "account_name = 'bb1018'\n",
    "partition = 'compute'\n",
    "job_name = 'hackCLC'\n",
    "memory = '10GiB' # Max memory per node = 64 GiB initially\n",
    "cores = 12 # Max number of cores reserved = 12 cores\n",
    "walltime = '01:00:00'"
   ]
  },
  {
   "cell_type": "code",
   "execution_count": 8,
   "metadata": {},
   "outputs": [
    {
     "name": "stdout",
     "output_type": "stream",
     "text": [
      "#!/usr/bin/env bash\n",
      "\n",
      "#SBATCH -J dask-worker\n",
      "#SBATCH -p compute\n",
      "#SBATCH -A bb1018\n",
      "#SBATCH -n 1\n",
      "#SBATCH --cpus-per-task=12\n",
      "#SBATCH --mem=10G\n",
      "#SBATCH -t 01:00:00\n",
      "#SBATCH -J hackCLC\n",
      "#SBATCH -D /scratch/b/b380873/hackathong0twt3_5\n",
      "#SBATCH --begin=now\n",
      "#SBATCH --output=/scratch/b/b380873/hackathong0twt3_5/LOG_hackathon.%j.o\n",
      "\n",
      "JOB_ID=${SLURM_JOB_ID%;*}\n",
      "\n",
      "/pf/b/b380459/conda-envs/Nawdex-Hackathon/bin/python3 -m distributed.cli.dask_worker tcp://10.50.36.87:36186 --nthreads 12 --memory-limit 10.74GB --name name --nanny --death-timeout 60 --local-directory /scratch/b/b380873/hackathong0twt3_5 --interface ib0\n",
      "\n"
     ]
    }
   ],
   "source": [
    "scratch_dir = Path('/scratch') / getuser()[0] / getuser()\n",
    "# The temporary directory closes with the notebook.\n",
    "dask_scratch_dir = TemporaryDirectory(dir=scratch_dir, prefix='hackathon')\n",
    "\n",
    "# Generate a job script to be submitted via sbatch and print it.\n",
    "cluster = SLURMCluster(memory=memory, cores=cores, project=account_name,\n",
    "                      walltime=walltime, queue=partition, name=job_name,\n",
    "                      scheduler_options={'dashboard_address': ':12345'},\n",
    "                      local_directory=dask_scratch_dir.name,\n",
    "                      job_extra=[f'-J {job_name}',\n",
    "                                 f'-D {dask_scratch_dir.name}',\n",
    "                                 f'--begin=now',\n",
    "                                 f'--output={dask_scratch_dir.name}/LOG_hackathon.%j.o'],\n",
    "                      interface='ib0')\n",
    "\n",
    "print(cluster.job_script())"
   ]
  },
  {
   "cell_type": "code",
   "execution_count": 9,
   "metadata": {},
   "outputs": [
    {
     "data": {
      "application/vnd.jupyter.widget-view+json": {
       "model_id": "0e435cf6d74b4f61b9e03e47c7920485",
       "version_major": 2,
       "version_minor": 0
      },
      "text/plain": [
       "VBox(children=(HTML(value='<h2>hackCLC</h2>'), HBox(children=(HTML(value='\\n<div>\\n  <style scoped>\\n    .data…"
      ]
     },
     "metadata": {},
     "output_type": "display_data"
    }
   ],
   "source": [
    "# Order 5 nodes (according to the specifications above?)\n",
    "cluster.scale(5)\n",
    "cluster"
   ]
  },
  {
   "cell_type": "code",
   "execution_count": 11,
   "metadata": {},
   "outputs": [
    {
     "name": "stdout",
     "output_type": "stream",
     "text": [
      "             JOBID PARTITION     NAME     USER ST       TIME  NODES NODELIST(REASON)\n",
      "          22984230   compute  hackCLC  b380873  R       6:20      1 m11256\n",
      "          22984231   compute  hackCLC  b380873  R       6:20      1 m11257\n",
      "          22984232   compute  hackCLC  b380873  R       6:20      1 m11344\n",
      "          22984233   compute  hackCLC  b380873  R       6:20      1 m11345\n",
      "          22984234   compute  hackCLC  b380873  R       6:20      1 m11473\n",
      "          22983961   compute spawner-  b380873  R      16:24      1 m10343\n"
     ]
    }
   ],
   "source": [
    "! squeue -u $USER"
   ]
  },
  {
   "cell_type": "code",
   "execution_count": 12,
   "metadata": {},
   "outputs": [
    {
     "data": {
      "text/html": [
       "<table style=\"border: 2px solid white;\">\n",
       "<tr>\n",
       "<td style=\"vertical-align: top; border: 0px solid white\">\n",
       "<h3 style=\"text-align: left;\">Client</h3>\n",
       "<ul style=\"text-align: left; list-style: none; margin: 0; padding: 0;\">\n",
       "  <li><b>Scheduler: </b>tcp://10.50.36.87:36186</li>\n",
       "  <li><b>Dashboard: </b><a href='http://10.50.36.87:8787/status' target='_blank'>http://10.50.36.87:8787/status</a></li>\n",
       "</ul>\n",
       "</td>\n",
       "<td style=\"vertical-align: top; border: 0px solid white\">\n",
       "<h3 style=\"text-align: left;\">Cluster</h3>\n",
       "<ul style=\"text-align: left; list-style:none; margin: 0; padding: 0;\">\n",
       "  <li><b>Workers: </b>5</li>\n",
       "  <li><b>Cores: </b>60</li>\n",
       "  <li><b>Memory: </b>53.69 GB</li>\n",
       "</ul>\n",
       "</td>\n",
       "</tr>\n",
       "</table>"
      ],
      "text/plain": [
       "<Client: 'tcp://10.50.36.87:36186' processes=5 threads=60, memory=53.69 GB>"
      ]
     },
     "execution_count": 12,
     "metadata": {},
     "output_type": "execute_result"
    }
   ],
   "source": [
    "# Once the resources are available, the client needs to connect to it.\n",
    "dask_client = Client(cluster)\n",
    "dask_client"
   ]
  },
  {
   "cell_type": "markdown",
   "metadata": {},
   "source": [
    "## Read 3D cloud fraction values"
   ]
  },
  {
   "cell_type": "code",
   "execution_count": 49,
   "metadata": {},
   "outputs": [
    {
     "name": "stdout",
     "output_type": "stream",
     "text": [
      "{'80km': PosixPath('/scratch/b/b380459/icon_4_hackathon/nawdexnwp-80km-mis-0001/nawdexnwp-80km-mis-0001'), '10km': PosixPath('/scratch/b/b380459/icon_4_hackathon/nawdexnwp-10km-mis-0001')}\n"
     ]
    }
   ],
   "source": [
    "# Compare cloud fraction profiles between the 80-km and 10-km simulations.\n",
    "paths = {'80km' : Path('/scratch/b/b380459/icon_4_hackathon/nawdexnwp-80km-mis-0001') / 'nawdexnwp-80km-mis-0001',\n",
    "         '10km' : Path('/scratch/b/b380459/icon_4_hackathon/nawdexnwp-10km-mis-0001') / 'nawdexnwp-40km-mis-0001'}\n",
    "cld3dtag = '_2016092200_3dcloud_DOM01_ML_'\n",
    "sims = list(paths.keys())"
   ]
  },
  {
   "cell_type": "code",
   "execution_count": null,
   "metadata": {},
   "outputs": [],
   "source": [
    "# Read in the run files using open_mfdataset. The wildcard indicates all time steps.\n",
    "datasets = {}\n",
    "for exp in sims:\n",
    "    print(f'Read data from {exp}',end='\\r')\n",
    "    datasets[exp] = xr.open_mfdataset(str(paths[exp] / f'{cld3dtag}*.nc'))\n",
    "    print()\n",
    "    "
   ]
  }
 ],
 "metadata": {
  "kernelspec": {
   "display_name": "nawdex-hackathon",
   "language": "python",
   "name": "nawdex-hackathon"
  },
  "language_info": {
   "codemirror_mode": {
    "name": "ipython",
    "version": 3
   },
   "file_extension": ".py",
   "mimetype": "text/x-python",
   "name": "python",
   "nbconvert_exporter": "python",
   "pygments_lexer": "ipython3",
   "version": "3.8.6"
  }
 },
 "nbformat": 4,
 "nbformat_minor": 4
}
